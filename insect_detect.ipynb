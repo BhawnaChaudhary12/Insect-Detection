{
  "nbformat": 4,
  "nbformat_minor": 0,
  "metadata": {
    "colab": {
      "provenance": []
    },
    "kernelspec": {
      "name": "python3",
      "display_name": "Python 3"
    },
    "language_info": {
      "name": "python"
    },
    "widgets": {
      "application/vnd.jupyter.widget-state+json": {
        "5638aecb543a4cfebc6fcfcc2096a8ed": {
          "model_module": "@jupyter-widgets/controls",
          "model_name": "FileUploadModel",
          "model_module_version": "1.5.0",
          "state": {
            "_counter": 0,
            "_dom_classes": [],
            "_model_module": "@jupyter-widgets/controls",
            "_model_module_version": "1.5.0",
            "_model_name": "FileUploadModel",
            "_view_count": null,
            "_view_module": "@jupyter-widgets/controls",
            "_view_module_version": "1.5.0",
            "_view_name": "FileUploadView",
            "accept": "image/tt.jppeg",
            "button_style": "",
            "data": [],
            "description": "Upload",
            "description_tooltip": null,
            "disabled": false,
            "error": "",
            "icon": "upload",
            "layout": "IPY_MODEL_bb83eee65a6342c28fb351c3bfdb702a",
            "metadata": [],
            "multiple": false,
            "style": "IPY_MODEL_611762286eac43698ddcc21adc8a60f5"
          }
        },
        "bb83eee65a6342c28fb351c3bfdb702a": {
          "model_module": "@jupyter-widgets/base",
          "model_name": "LayoutModel",
          "model_module_version": "1.2.0",
          "state": {
            "_model_module": "@jupyter-widgets/base",
            "_model_module_version": "1.2.0",
            "_model_name": "LayoutModel",
            "_view_count": null,
            "_view_module": "@jupyter-widgets/base",
            "_view_module_version": "1.2.0",
            "_view_name": "LayoutView",
            "align_content": null,
            "align_items": null,
            "align_self": null,
            "border": null,
            "bottom": null,
            "display": null,
            "flex": null,
            "flex_flow": null,
            "grid_area": null,
            "grid_auto_columns": null,
            "grid_auto_flow": null,
            "grid_auto_rows": null,
            "grid_column": null,
            "grid_gap": null,
            "grid_row": null,
            "grid_template_areas": null,
            "grid_template_columns": null,
            "grid_template_rows": null,
            "height": null,
            "justify_content": null,
            "justify_items": null,
            "left": null,
            "margin": null,
            "max_height": null,
            "max_width": null,
            "min_height": null,
            "min_width": null,
            "object_fit": null,
            "object_position": null,
            "order": null,
            "overflow": null,
            "overflow_x": null,
            "overflow_y": null,
            "padding": null,
            "right": null,
            "top": null,
            "visibility": null,
            "width": null
          }
        },
        "611762286eac43698ddcc21adc8a60f5": {
          "model_module": "@jupyter-widgets/controls",
          "model_name": "ButtonStyleModel",
          "model_module_version": "1.5.0",
          "state": {
            "_model_module": "@jupyter-widgets/controls",
            "_model_module_version": "1.5.0",
            "_model_name": "ButtonStyleModel",
            "_view_count": null,
            "_view_module": "@jupyter-widgets/base",
            "_view_module_version": "1.2.0",
            "_view_name": "StyleView",
            "button_color": null,
            "font_weight": ""
          }
        }
      }
    }
  },
  "cells": [
    {
      "cell_type": "code",
      "execution_count": 5,
      "metadata": {
        "id": "yJqVFXWeH8S_",
        "colab": {
          "base_uri": "https://localhost:8080/",
          "height": 49,
          "referenced_widgets": [
            "5638aecb543a4cfebc6fcfcc2096a8ed",
            "bb83eee65a6342c28fb351c3bfdb702a",
            "611762286eac43698ddcc21adc8a60f5"
          ]
        },
        "outputId": "1f48e3fd-198e-4f91-c24b-2e45457ba28a"
      },
      "outputs": [
        {
          "output_type": "display_data",
          "data": {
            "text/plain": [
              "FileUpload(value={}, accept='image/tt.jppeg', description='Upload')"
            ],
            "application/vnd.jupyter.widget-view+json": {
              "version_major": 2,
              "version_minor": 0,
              "model_id": "5638aecb543a4cfebc6fcfcc2096a8ed"
            }
          },
          "metadata": {}
        }
      ],
      "source": [
        "import tensorflow as tf\n",
        "import numpy as np\n",
        "import matplotlib.pyplot as plt\n",
        "from tensorflow.keras.applications import MobileNetV2\n",
        "from tensorflow.keras.applications.mobilenet_v2 import preprocess_input, decode_predictions\n",
        "from tensorflow.keras.preprocessing import image\n",
        "import io\n",
        "from PIL import Image\n",
        "import ipywidgets as widgets\n",
        "from IPython.display import display, clear_output\n",
        "\n",
        "model = MobileNetV2(weights='imagenet')\n",
        "upload = widgets.FileUpload(accept='image/tt.jppeg', multiple=False)\n",
        "display(upload)\n",
        "\n",
        "def on_upload_change(change):\n",
        "    clear_output(wait=True)\n",
        "    display(upload)\n",
        "\n",
        "    for name, file_info in upload.value.items():\n",
        "        img_data = file_info['content']\n",
        "        img = Image.open(io.BytesIO(img_data)).convert('RGB')\n",
        "        img_resized = img.resize((224, 224))\n",
        "        img_array = image.img_to_array(img_resized)\n",
        "        img_array = np.expand_dims(img_array, axis=0)\n",
        "        img_array = preprocess_input(img_array)\n",
        "        preds = model.predict(img_array)\n",
        "        decoded = decode_predictions(preds, top=5)[0]\n",
        "        plt.imshow(img)\n",
        "        plt.axis('off')\n",
        "        plt.title(\"Predictions:\")\n",
        "        plt.show()\n",
        "\n",
        "        for (_, label, prob) in decoded:\n",
        "            print(f\"{label}: {prob:.4f}\")\n",
        "\n",
        "        insect_keywords = ['insect', 'bug', 'ant', 'bee', 'fly', 'wasp', 'mosquito', 'grasshopper', 'beetle', 'caterpillar']\n",
        "        if any(keyword in label.lower() for (_, label, _) in decoded for keyword in insect_keywords):\n",
        "            print(\"\\n Insect detected in the image.\")\n",
        "        else:\n",
        "            print(\"\\n No insect detected.\")\n",
        "\n",
        "upload.observe(on_upload_change, names='value')\n"
      ]
    }
  ]
}